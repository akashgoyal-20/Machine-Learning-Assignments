{
  "nbformat": 4,
  "nbformat_minor": 0,
  "metadata": {
    "colab": {
      "provenance": [],
      "authorship_tag": "ABX9TyNtzBbqCivCkNJ4/6toMErL",
      "include_colab_link": true
    },
    "kernelspec": {
      "name": "python3",
      "display_name": "Python 3"
    },
    "language_info": {
      "name": "python"
    }
  },
  "cells": [
    {
      "cell_type": "markdown",
      "metadata": {
        "id": "view-in-github",
        "colab_type": "text"
      },
      "source": [
        "<a href=\"https://colab.research.google.com/github/akashgoyal-20/Machine-Learning-Assignments/blob/main/ML_Assignment_1.ipynb\" target=\"_parent\"><img src=\"https://colab.research.google.com/assets/colab-badge.svg\" alt=\"Open In Colab\"/></a>"
      ]
    },
    {
      "cell_type": "markdown",
      "source": [
        "Q1: Questions on Basic NumPy Array\n",
        "\n",
        "(a) Reverse the NumPy array: arr = np.array([1, 2, 3, 6, 4, 5])\n",
        "\n",
        "(b) Flatten the NumPy arr: array1 = np.array([[1, 2, 3], [2, 4, 5], [1, 2, 3]]) using any two NumPy in-built methods\n",
        "\n",
        "(c) Compare the following numpy arrays:\n",
        "arr1 = np.array([[1, 2], [3, 4]])\n",
        "arr2 = np.array([[1, 2], [3, 4]])\n",
        "\n",
        "(d) Find the most frequent value and their indice(s) in the following arrays:\n",
        "i. x = np.array([1,2,3,4,5,1,2,1,1,1])\n",
        "ii. y = np.array([1, 1, 1, 2, 3, 4, 2, 4, 3, 3, ])\n",
        "\n",
        "(e) For the array gfg = np.matrix('[4, 1, 9; 12, 3, 1; 4, 5, 6]'), find\n",
        "i. Sum of all elements\n",
        "ii. Sum of all elements row-wise\n",
        "iii. Sum of all elements column-wise\n",
        "\n",
        "\n",
        "(f) For the matrix: n_array = np.array([[55, 25, 15],[30, 44, 2],[11, 45, 77]]), find\n",
        "i. Sum of diagonal elements\n",
        "ii. Eigen values of matrix\n",
        "iii. Eigen vectors of matrix\n",
        "iv. Inverse of matrix\n",
        "v. Determinant of matrix\n",
        "\n",
        "(g) Multiply the following matrices and also find covariance between matrices using NumPy:\n",
        "i. p = [[1, 2], [2, 3]]\n",
        "   q = [[4, 5], [6, 7]]\n",
        "ii. p = [[1, 2], [2, 3], [4, 5]]\n",
        "    q = [[4, 5, 1], [6, 7, 2]]\n",
        "\n",
        "(h) For the matrices: x = np.array([[2, 3, 4], [3, 2, 9]]); y = np.array([[1, 5, 0], [5, 10, 3]]),\n",
        "find inner, outer and cartesian product?"
      ],
      "metadata": {
        "id": "YRaUJpLsJ0Gi"
      }
    },
    {
      "cell_type": "code",
      "source": [
        "import numpy as np\n",
        "\n",
        "#a\n",
        "arr = np.array([1, 2, 3, 6, 4, 5])\n",
        "print(\"Reversed Array:\", arr[::-1])\n",
        "\n"
      ],
      "metadata": {
        "colab": {
          "base_uri": "https://localhost:8080/"
        },
        "id": "zsmzVERJLMhP",
        "outputId": "139c43fe-5128-41e4-99f7-54fbe0a24014"
      },
      "execution_count": 50,
      "outputs": [
        {
          "output_type": "stream",
          "name": "stdout",
          "text": [
            "Reversed Array: [5 4 6 3 2 1]\n"
          ]
        }
      ]
    },
    {
      "cell_type": "code",
      "source": [
        "#b\n",
        "array1 = np.array([[1, 2, 3], [2, 4, 5], [1, 2, 3]])\n",
        "print(\"Flatten (ravel):\", array1.ravel())\n",
        "print(\"Flatten (flatten):\", array1.flatten())"
      ],
      "metadata": {
        "colab": {
          "base_uri": "https://localhost:8080/"
        },
        "id": "GGsxEQ_bY7tR",
        "outputId": "ffc78a60-3ccf-4013-e7e9-48a9659da7e8"
      },
      "execution_count": 49,
      "outputs": [
        {
          "output_type": "stream",
          "name": "stdout",
          "text": [
            "Flatten (ravel): [1 2 3 2 4 5 1 2 3]\n",
            "Flatten (flatten): [1 2 3 2 4 5 1 2 3]\n"
          ]
        }
      ]
    },
    {
      "cell_type": "code",
      "source": [
        "#c\n",
        "arr1 = np.array([[1, 2], [3, 4]])\n",
        "arr2 = np.array([[1, 2], [3, 4]])\n",
        "\n",
        "print(np.equal(arr1, arr2))"
      ],
      "metadata": {
        "colab": {
          "base_uri": "https://localhost:8080/"
        },
        "id": "3fhFVbqVY-dj",
        "outputId": "87ad21d2-e3d3-4206-d83e-c06f2c573f77"
      },
      "execution_count": 48,
      "outputs": [
        {
          "output_type": "stream",
          "name": "stdout",
          "text": [
            "[[ True  True]\n",
            " [ True  True]]\n"
          ]
        }
      ]
    },
    {
      "cell_type": "code",
      "source": [
        "#d\n",
        "x = np.array([5,2,3,4,1,1,2,5,1,1])\n",
        "x1, idx = np.unique(x, return_index=True)\n",
        "count = np.unique(x, return_counts=True)\n",
        "\n",
        "print(f\"The most frequent element is {x1[0]} and its index is {idx[0]}\")"
      ],
      "metadata": {
        "colab": {
          "base_uri": "https://localhost:8080/"
        },
        "id": "yIXtWYHKZBt2",
        "outputId": "ca6804ef-8cd3-40b3-cc76-be914ab7c325"
      },
      "execution_count": 47,
      "outputs": [
        {
          "output_type": "stream",
          "name": "stdout",
          "text": [
            "The most frequent element is 1 and its index is 4\n"
          ]
        }
      ]
    },
    {
      "cell_type": "code",
      "source": [
        "#e\n",
        "gfg = np.matrix('[4, 1, 9; 12, 3, 1; 4, 5, 6]')\n",
        "print(\"Total Sum:\", gfg.sum())\n",
        "print(\"Row-wise Sum:\", gfg.sum(axis=1))\n",
        "print(\"Column-wise Sum:\", gfg.sum(axis=0))"
      ],
      "metadata": {
        "colab": {
          "base_uri": "https://localhost:8080/"
        },
        "id": "GuvssskTafRj",
        "outputId": "68d0270f-b9a9-49e4-fd93-fee7dc101886"
      },
      "execution_count": 46,
      "outputs": [
        {
          "output_type": "stream",
          "name": "stdout",
          "text": [
            "Total Sum: 45\n",
            "Row-wise Sum: [[14]\n",
            " [16]\n",
            " [15]]\n",
            "Column-wise Sum: [[20  9 16]]\n"
          ]
        }
      ]
    },
    {
      "cell_type": "code",
      "source": [
        "#f\n",
        "n_array = np.array([[55, 25, 15],[30, 44, 2],[11, 45, 77]])\n",
        "print(\"Diagonal Sum:\", np.trace(n_array))\n",
        "eig_vals, eig_vecs = np.linalg.eig(n_array)\n",
        "print(\"Eigenvalues:\", eig_vals)\n",
        "print(\"Eigenvectors:\\n\", eig_vecs)\n",
        "print(\"Inverse:\\n\", np.linalg.inv(n_array))\n",
        "print(\"Determinant:\", np.linalg.det(n_array))"
      ],
      "metadata": {
        "colab": {
          "base_uri": "https://localhost:8080/"
        },
        "id": "2Js0WWXpapd3",
        "outputId": "49e77b54-cba0-40bc-d3db-e101be8149c6"
      },
      "execution_count": 45,
      "outputs": [
        {
          "output_type": "stream",
          "name": "stdout",
          "text": [
            "Diagonal Sum: 176\n",
            "Eigenvalues: [98.16835147 28.097044   49.73460452]\n",
            "Eigenvectors:\n",
            " [[ 0.4574917   0.34637121 -0.15017693]\n",
            " [ 0.28447814 -0.72784061 -0.4852124 ]\n",
            " [ 0.84248058  0.59184038  0.8614034 ]]\n",
            "Inverse:\n",
            " [[ 0.02404141 -0.00911212 -0.00444671]\n",
            " [-0.01667882  0.02966905  0.0024785 ]\n",
            " [ 0.00631287 -0.01603732  0.01217379]]\n",
            "Determinant: 137180.0000000001\n"
          ]
        }
      ]
    },
    {
      "cell_type": "code",
      "source": [
        "#g\n",
        "p = np.array([[1, 2], [2, 3]])\n",
        "q = np.array([[4, 5], [6, 7]])\n",
        "\n",
        "print(\"Matrix Multiply:\\n\", np.dot(p, q))\n",
        "print(\"Covariance:\\n\", np.cov(p, q))\n"
      ],
      "metadata": {
        "colab": {
          "base_uri": "https://localhost:8080/"
        },
        "id": "jeDHM2tfa9Bt",
        "outputId": "1eacbee5-7507-41ab-f87d-b13cd373795f"
      },
      "execution_count": 44,
      "outputs": [
        {
          "output_type": "stream",
          "name": "stdout",
          "text": [
            "Matrix Multiply:\n",
            " [[16 19]\n",
            " [26 31]]\n",
            "Covariance:\n",
            " [[0.5 0.5 0.5 0.5]\n",
            " [0.5 0.5 0.5 0.5]\n",
            " [0.5 0.5 0.5 0.5]\n",
            " [0.5 0.5 0.5 0.5]]\n"
          ]
        }
      ]
    },
    {
      "cell_type": "code",
      "source": [
        "#h\n",
        "x = np.array([[2, 3, 4], [3, 2, 9]])\n",
        "y = np.array([[1, 5, 0], [5, 10, 3]])\n",
        "\n",
        "innerprod = np.inner(x, y)\n",
        "print(\"Inner product:\\n\",innerprod)\n",
        "\n",
        "outerprod = np.outer(x, y)\n",
        "print(\"Outer product:\\n\",outerprod)\n",
        "\n",
        "cartesian_product_p, cartesian_product_q = np.meshgrid(x, y)\n",
        "cartesian_product = np.column_stack((cartesian_product_p.ravel(), cartesian_product_q.ravel()))\n",
        "print(f\"Cartesian product:\\n{cartesian_product}\")"
      ],
      "metadata": {
        "colab": {
          "base_uri": "https://localhost:8080/"
        },
        "id": "9Voy1DpscYiH",
        "outputId": "54636250-39c8-4e34-b2e7-dfc5cffe7898"
      },
      "execution_count": 43,
      "outputs": [
        {
          "output_type": "stream",
          "name": "stdout",
          "text": [
            "Inner product:\n",
            " [[17 52]\n",
            " [13 62]]\n",
            "Outer product:\n",
            " [[ 2 10  0 10 20  6]\n",
            " [ 3 15  0 15 30  9]\n",
            " [ 4 20  0 20 40 12]\n",
            " [ 3 15  0 15 30  9]\n",
            " [ 2 10  0 10 20  6]\n",
            " [ 9 45  0 45 90 27]]\n",
            "Cartesian product:\n",
            "[[ 2  1]\n",
            " [ 3  1]\n",
            " [ 4  1]\n",
            " [ 3  1]\n",
            " [ 2  1]\n",
            " [ 9  1]\n",
            " [ 2  5]\n",
            " [ 3  5]\n",
            " [ 4  5]\n",
            " [ 3  5]\n",
            " [ 2  5]\n",
            " [ 9  5]\n",
            " [ 2  0]\n",
            " [ 3  0]\n",
            " [ 4  0]\n",
            " [ 3  0]\n",
            " [ 2  0]\n",
            " [ 9  0]\n",
            " [ 2  5]\n",
            " [ 3  5]\n",
            " [ 4  5]\n",
            " [ 3  5]\n",
            " [ 2  5]\n",
            " [ 9  5]\n",
            " [ 2 10]\n",
            " [ 3 10]\n",
            " [ 4 10]\n",
            " [ 3 10]\n",
            " [ 2 10]\n",
            " [ 9 10]\n",
            " [ 2  3]\n",
            " [ 3  3]\n",
            " [ 4  3]\n",
            " [ 3  3]\n",
            " [ 2  3]\n",
            " [ 9  3]]\n"
          ]
        }
      ]
    },
    {
      "cell_type": "markdown",
      "source": [
        "Q2: Based on NumPy Mathematics and Statistics\n",
        "\n",
        "(a) For the array: array = np.array([[1, -2, 3],[-4, 5, -6]])\n",
        "\n",
        "i. Find element-wise absolute value\n",
        "\n",
        "ii. Find the 25th, 50th, and 75th percentile of flattened array, for each column, for each row.\n",
        "\n",
        "iii. Mean, Median and Standard Deviation of flattened array, of each column, and each row\n",
        "\n"
      ],
      "metadata": {
        "id": "-cEV2HVDdxic"
      }
    },
    {
      "cell_type": "code",
      "source": [
        "#a\n",
        "array=np.array([[1,-2,3],[-4,5,-6]])\n",
        "abs_array=np.abs(array)\n",
        "print(\"Absolute Values:\\n\",abs_array)\n",
        "print()\n",
        "\n",
        "flat=array.flatten()\n",
        "print(\"Flattened Percentiles:\")\n",
        "print(\"25th:\",np.percentile(flat,25))\n",
        "print(\"50th:\",np.percentile(flat,50))\n",
        "print(\"75th:\",np.percentile(flat,75))\n",
        "print()\n",
        "\n",
        "print(\"Column-wise Percentiles:\")\n",
        "print(\"25th:\",np.percentile(array,25,axis=0))\n",
        "print(\"50th:\",np.percentile(array,50,axis=0))\n",
        "print(\"75th:\",np.percentile(array,75,axis=0))\n",
        "print()\n",
        "\n",
        "print(\"Row-wise Percentiles:\")\n",
        "print(\"25th:\", np.percentile(array,25,axis=1))\n",
        "print(\"50th:\", np.percentile(array,50,axis=1))\n",
        "print(\"75th:\", np.percentile(array,75,axis=1))\n",
        "print()\n",
        "\n",
        "print(\"Mean (Flattened):\",np.mean(flat))\n",
        "print(\"Median (Flattened):\",np.median(flat))\n",
        "print(\"Std Dev (Flattened):\",np.std(flat))\n",
        "print()\n",
        "\n",
        "print(\"Mean (Column-wise):\",np.mean(array,axis=0))\n",
        "print(\"Median (Column-wise):\",np.median(array,axis=0))\n",
        "print(\"Std Dev (Column-wise):\",np.std(array,axis=0))\n",
        "print()\n",
        "\n",
        "print(\"Mean (Row-wise):\",np.mean(array,axis=1))\n",
        "print(\"Median (Row-wise):\",np.median(array,axis=1))\n",
        "print(\"Std Dev (Row-wise):\",np.std(array,axis=1))\n",
        "\n"
      ],
      "metadata": {
        "colab": {
          "base_uri": "https://localhost:8080/"
        },
        "id": "BahXpJUWd0vr",
        "outputId": "03d291cd-c434-4eb4-dd63-5149c585a540"
      },
      "execution_count": 42,
      "outputs": [
        {
          "output_type": "stream",
          "name": "stdout",
          "text": [
            "Absolute Values:\n",
            " [[1 2 3]\n",
            " [4 5 6]]\n",
            "\n",
            "Flattened Percentiles:\n",
            "25th: -3.5\n",
            "50th: -0.5\n",
            "75th: 2.5\n",
            "\n",
            "Column-wise Percentiles:\n",
            "25th: [-2.75 -0.25 -3.75]\n",
            "50th: [-1.5  1.5 -1.5]\n",
            "75th: [-0.25  3.25  0.75]\n",
            "\n",
            "Row-wise Percentiles:\n",
            "25th: [-0.5 -5. ]\n",
            "50th: [ 1. -4.]\n",
            "75th: [2.  0.5]\n",
            "\n",
            "Mean (Flattened): -0.5\n",
            "Median (Flattened): -0.5\n",
            "Std Dev (Flattened): 3.8622100754188224\n",
            "\n",
            "Mean (Column-wise): [-1.5  1.5 -1.5]\n",
            "Median (Column-wise): [-1.5  1.5 -1.5]\n",
            "Std Dev (Column-wise): [2.5 3.5 4.5]\n",
            "\n",
            "Mean (Row-wise): [ 0.66666667 -1.66666667]\n",
            "Median (Row-wise): [ 1. -4.]\n",
            "Std Dev (Row-wise): [2.05480467 4.78423336]\n"
          ]
        }
      ]
    },
    {
      "cell_type": "markdown",
      "source": [
        "(b) For the array: a = np.array([-1.8, -1.6, -0.5, 0.5,1.6, 1.8, 3.0]).\n",
        "\n",
        "Find floor, ceiling and truncated value, rounded values"
      ],
      "metadata": {
        "id": "r2ruzvvtfFpO"
      }
    },
    {
      "cell_type": "code",
      "source": [
        "#b\n",
        "a = np.array([-1.8, -1.6, -0.5, 0.5,1.6, 1.8, 3.0])\n",
        "floor_values = np.floor(a)\n",
        "print(\"Floor values:\",floor_values)\n",
        "\n",
        "ceil_values = np.ceil(a)\n",
        "print(\"Ceil values:\",ceil_values)\n",
        "\n",
        "trunc_values = np.trunc(a)\n",
        "print(\"Truncated values:\",trunc_values)\n",
        "\n",
        "rounded_values_default = np.round(a) # Rounds to nearest integer\n",
        "print(\"Rounded values (default):\",rounded_values_default)"
      ],
      "metadata": {
        "colab": {
          "base_uri": "https://localhost:8080/"
        },
        "id": "NQYqegy9fQ4v",
        "outputId": "d5e7b8ab-3429-47f2-a022-c7f206257d39"
      },
      "execution_count": 53,
      "outputs": [
        {
          "output_type": "stream",
          "name": "stdout",
          "text": [
            "Floor values: [-2. -2. -1.  0.  1.  1.  3.]\n",
            "Ceil values: [-1. -1. -0.  1.  2.  2.  3.]\n",
            "Truncated values: [-1. -1. -0.  0.  1.  1.  3.]\n",
            "Rounded values (default): [-2. -2. -0.  0.  2.  2.  3.]\n"
          ]
        }
      ]
    },
    {
      "cell_type": "markdown",
      "source": [
        "Q3: Searching and Sorting\n",
        "\n",
        "(a) For the array array = np.array([10, 52, 62, 16, 16, 54, 453]), find:\n",
        "\n",
        "i. Sorted array\n",
        "\n",
        "ii. Indices of sorted array\n",
        "\n",
        "iii. 4 smallest elements\n",
        "\n",
        "iv. 5 largest elements"
      ],
      "metadata": {
        "id": "YAUPKKcjfk-c"
      }
    },
    {
      "cell_type": "code",
      "source": [
        "#a\n",
        "array = np.array([10, 52, 62, 16, 16, 54, 453])\n",
        "print(\"Sorted:\", np.sort(array))\n",
        "print(\"Indices of Sorted:\", np.argsort(array))\n",
        "print(\"4 Smallest:\", np.partition(array, 4)[:4])\n",
        "print(\"5 Largest:\", np.sort(array)[-5:])"
      ],
      "metadata": {
        "colab": {
          "base_uri": "https://localhost:8080/"
        },
        "id": "UMesh314fxhz",
        "outputId": "be779d94-ae19-4d7c-eb53-4e6fc3931032"
      },
      "execution_count": 35,
      "outputs": [
        {
          "output_type": "stream",
          "name": "stdout",
          "text": [
            "Sorted: [ 10  16  16  52  54  62 453]\n",
            "Indices of Sorted: [0 3 4 1 5 2 6]\n",
            "4 Smallest: [10 16 16 52]\n",
            "5 Largest: [ 16  52  54  62 453]\n"
          ]
        }
      ]
    },
    {
      "cell_type": "markdown",
      "source": [
        "(b) For the array: array = np.array([1.0, 1.2, 2.2, 2.0, 3.0, 2.0]), find\n",
        "\n",
        "i. Integer elements only\n",
        "\n",
        "ii. Float elements only"
      ],
      "metadata": {
        "id": "-edLM_sOgXZt"
      }
    },
    {
      "cell_type": "code",
      "source": [
        "#b\n",
        "array = np.array([1.0, 1.2, 2.2, 2.0, 3.0, 2.0])\n",
        "integers = array[np.mod(array, 1) == 0]\n",
        "floats = array[np.mod(array, 1) != 0]\n",
        "print(\"Integers Elements:\",integers)\n",
        "print(\"Floats Elements:\",floats)"
      ],
      "metadata": {
        "colab": {
          "base_uri": "https://localhost:8080/"
        },
        "id": "QcBu7Zfkgftv",
        "outputId": "c773e52e-0bf2-4b1d-8319-23bbfe955979"
      },
      "execution_count": 55,
      "outputs": [
        {
          "output_type": "stream",
          "name": "stdout",
          "text": [
            "Integers Elements: [1. 2. 3. 2.]\n",
            "Floats Elements: [1.2 2.2]\n"
          ]
        }
      ]
    }
  ]
}